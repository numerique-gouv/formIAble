{
 "cells": [
  {
   "cell_type": "code",
   "execution_count": 13,
   "metadata": {},
   "outputs": [
    {
     "name": "stdout",
     "output_type": "stream",
     "text": [
      "The autoreload extension is already loaded. To reload it, use:\n",
      "  %reload_ext autoreload\n"
     ]
    }
   ],
   "source": [
    "%load_ext autoreload\n",
    "%autoreload 2"
   ]
  },
  {
   "cell_type": "code",
   "execution_count": 14,
   "metadata": {},
   "outputs": [],
   "source": [
    "import sys\n",
    "sys.path.append(\"../src/\")"
   ]
  },
  {
   "cell_type": "code",
   "execution_count": 15,
   "metadata": {},
   "outputs": [],
   "source": [
    "from util.dataGeneration.writer_13753_04 import Writer13753_04\n",
    "\n",
    "writer = Writer13753_04(num_cerfa=\"13753_04\")"
   ]
  },
  {
   "cell_type": "code",
   "execution_count": 16,
   "metadata": {},
   "outputs": [
    {
     "data": {
      "text/plain": [
       "<util.dataGeneration.writer_13753_04.Writer13753_04 at 0x7f61f63473d0>"
      ]
     },
     "execution_count": 16,
     "metadata": {},
     "output_type": "execute_result"
    }
   ],
   "source": [
    "writer"
   ]
  },
  {
   "cell_type": "code",
   "execution_count": 17,
   "metadata": {},
   "outputs": [],
   "source": [
    "writer.fill_form()"
   ]
  },
  {
   "cell_type": "code",
   "execution_count": 20,
   "metadata": {},
   "outputs": [
    {
     "data": {
      "text/plain": [
       "{'Rect(260.1700134277344, 54.28802490234375, 270.1700134277344, 64.28802490234375)': ('topmostSubform[0].Page1[0].Groupe_de_boutons_radio[0]',\n",
       "  True),\n",
       " 'Rect(287.03900146484375, 201.42999267578125, 296.03900146484375, 210.42999267578125)': ('topmostSubform[0].Page1[0].Groupe_de_boutons_radio[1]',\n",
       "  False),\n",
       " 'Rect(315.6830139160156, 201.42999267578125, 324.6830139160156, 210.42999267578125)': ('topmostSubform[0].Page1[0].Groupe_de_boutons_radio[1]',\n",
       "  1),\n",
       " 'Rect(226.42599487304688, 202.19000244140625, 235.42599487304688, 211.19000244140625)': ('topmostSubform[0].Page1[0].Groupe_de_boutons_radio[2]',\n",
       "  True),\n",
       " 'Rect(92.61918742426737, 217.420322281474, 382.19081776372093, 229.25173582399475)': ('topmostSubform[0].Page1[0].txtNoms[0]',\n",
       "  'Gabriel Wagner'),\n",
       " 'Rect(399.95550026734264, 217.54587704124106, 560.9354909435949, 229.1261810642277)': ('topmostSubform[0].Page1[0].numSIRET[0]',\n",
       "  '39000261600378'),\n",
       " 'Rect(176.73324780509768, 247.7470968455682, 551.6397380347461, 259.9239236622443)': ('topmostSubform[0].Page1[0].txtCommune[0]',\n",
       "  'Ledoux'),\n",
       " 'Rect(204.48775344379385, 279.5326870367988, 275.4392637681202, 291.60336032648246)': ('topmostSubform[0].Page1[0].txtTypeVoie[0]',\n",
       "  'avenue'),\n",
       " 'Rect(282.9004360771983, 279.4369688432438, 558.4225314520986, 291.69907852003746)': ('topmostSubform[0].Page1[0].tktNomVoie[0]',\n",
       "  'avenue Bernadette Bernard'),\n",
       " 'Rect(108.39135893826186, 311.23028923233653, 178.66863862033188, 323.88677619735097)': ('topmostSubform[0].Page1[0].numCP[0]',\n",
       "  '60235'),\n",
       " 'Rect(200.44241516593803, 311.4590711157143, 551.0815716504683, 323.6579943139732)': ('topmostSubform[0].Page1[0].txtCommune[1]',\n",
       "  'Sainte Philippe'),\n",
       " 'Rect(178.28599548339844, 340.34600830078125, 188.28599548339844, 350.34600830078125)': ('topmostSubform[0].Page1[0].Groupe_de_boutons_radio[3]',\n",
       "  False),\n",
       " 'Rect(235.28199768066406, 340.34600830078125, 245.28199768066406, 350.34600830078125)': ('topmostSubform[0].Page1[0].Groupe_de_boutons_radio[3]',\n",
       "  1),\n",
       " 'Rect(158.37997118202685, 413.8665460317144, 329.7150147798872, 425.67846739602)': ('topmostSubform[0].Page1[0].txtImmatriculation[0]',\n",
       "  '296-NID-75'),\n",
       " 'Rect(84.74759353963455, 442.2116579202981, 231.0573991361467, 452.89436014610817)': ('topmostSubform[0].Page1[0].txtMarque[0]',\n",
       "  'BMW'),\n",
       " 'Rect(369.07655899594255, 442.23475384399524, 559.2154331915574, 452.36128497436414)': ('topmostSubform[0].Page1[0].txtDenomination[0]',\n",
       "  'Mitsubishi Eclipse'),\n",
       " 'Rect(206.25756121858174, 506.2864304782613, 562.2884287716527, 517.0095595119731)': ('topmostSubform[0].Page1[0].txtLieuDisporation[0]',\n",
       "  'Baudry'),\n",
       " 'Rect(30.724175574331547, 536.9746539407402, 563.5618160943696, 598.2903607076973)': ('topmostSubform[0].Page1[0].txtCirconstances[0]',\n",
       "  'Que semaine oublier dieu haine autour. Avoir entretenir plaisir désigner aucun gens.'),\n",
       " 'Rect(187.9845535553359, 666.60771197099, 271.1034286223985, 678.91133099776)': ('topmostSubform[0].Page1[0].datFaitLe[0]',\n",
       "  'Clerc'),\n",
       " 'Rect(59.76102521529095, 666.2806349517618, 171.24597856888875, 678.7433518646444)': ('topmostSubform[0].Page1[0].txtFaitA[0]',\n",
       "  'Salmon'),\n",
       " 'Rect(530.6690063476562, 796.56298828125, 540.6690063476562, 806.56298828125)': ('topmostSubform[0].Page1[0].DonneesPersonnelles[0]',\n",
       "  True)}"
      ]
     },
     "execution_count": 20,
     "metadata": {},
     "output_type": "execute_result"
    }
   ],
   "source": [
    "writer.annotator.dic"
   ]
  },
  {
   "cell_type": "code",
   "execution_count": 21,
   "metadata": {},
   "outputs": [],
   "source": [
    "writer.save()"
   ]
  },
  {
   "cell_type": "markdown",
   "metadata": {},
   "source": [
    "On part de ce dictionnaire et on normalise les coordonnées, puis on match avec l'extraction OCR. Pour chacune des coordonnées, on récupère toutes les bb OCR avec intersection non nulle, puis on clean et ça nous donne l'extraction"
   ]
  }
 ],
 "metadata": {
  "kernelspec": {
   "display_name": "base",
   "language": "python",
   "name": "python3"
  },
  "language_info": {
   "codemirror_mode": {
    "name": "ipython",
    "version": 3
   },
   "file_extension": ".py",
   "mimetype": "text/x-python",
   "name": "python",
   "nbconvert_exporter": "python",
   "pygments_lexer": "ipython3",
   "version": "3.11.4"
  },
  "orig_nbformat": 4
 },
 "nbformat": 4,
 "nbformat_minor": 2
}
